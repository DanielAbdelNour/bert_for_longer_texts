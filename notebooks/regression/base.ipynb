{
 "cells": [
  {
   "cell_type": "code",
   "execution_count": 1,
   "id": "0b684d1c-49d8-4a89-80ee-8f54c4f6fe34",
   "metadata": {},
   "outputs": [],
   "source": [
    "%load_ext autoreload\n",
    "%autoreload 2\n",
    "\n",
    "import os\n",
    "\n",
    "while \"notebooks\" in os.getcwd():\n",
    "    os.chdir(\"..\")"
   ]
  },
  {
   "cell_type": "code",
   "execution_count": 2,
   "id": "8f020349-c880-426d-a878-3089c79c9203",
   "metadata": {},
   "outputs": [
    {
     "name": "stderr",
     "output_type": "stream",
     "text": [
      "/home/mbrzozowski/projects/belt_add_multiclass/.venv/lib/python3.9/site-packages/tqdm/auto.py:21: TqdmWarning: IProgress not found. Please update jupyter and ipywidgets. See https://ipywidgets.readthedocs.io/en/stable/user_install.html\n",
      "  from .autonotebook import tqdm as notebook_tqdm\n"
     ]
    }
   ],
   "source": [
    "from datasets import load_dataset\n",
    "import torch\n",
    "from torch.nn import MSELoss\n",
    "\n",
    "from belt_nlp.bert_regressor_truncated import BertRegressorTruncated"
   ]
  },
  {
   "attachments": {},
   "cell_type": "markdown",
   "id": "082da124-c5d5-4ed1-8828-fc7f92efbba2",
   "metadata": {},
   "source": [
    "# Example - Model BERT with truncation of longer texts"
   ]
  },
  {
   "attachments": {},
   "cell_type": "markdown",
   "id": "bebcd04f-9a46-4562-8afd-25e0f41263ca",
   "metadata": {},
   "source": [
    "In this notebook we will show how to use basic methods `fit` and `predict` for the BERT model with truncating texts longer than 512 tokens."
   ]
  },
  {
   "attachments": {},
   "cell_type": "markdown",
   "id": "77184f93-d4e0-449f-8a5e-c9b1103d077c",
   "metadata": {},
   "source": [
    "## Load data - predicting 5 star rating based on reviews in polish"
   ]
  },
  {
   "cell_type": "code",
   "execution_count": 3,
   "id": "58bddeba-98da-4eeb-b214-16318539a62e",
   "metadata": {},
   "outputs": [],
   "source": [
    "dataset = load_dataset(\"allegro_reviews\")"
   ]
  },
  {
   "cell_type": "code",
   "execution_count": 4,
   "id": "c84ad322-1484-4cd8-bf44-9bd7dcdb7ce3",
   "metadata": {},
   "outputs": [
    {
     "data": {
      "text/plain": [
       "DatasetDict({\n",
       "    train: Dataset({\n",
       "        features: ['text', 'rating'],\n",
       "        num_rows: 9577\n",
       "    })\n",
       "    test: Dataset({\n",
       "        features: ['text', 'rating'],\n",
       "        num_rows: 1006\n",
       "    })\n",
       "    validation: Dataset({\n",
       "        features: ['text', 'rating'],\n",
       "        num_rows: 1002\n",
       "    })\n",
       "})"
      ]
     },
     "execution_count": 4,
     "metadata": {},
     "output_type": "execute_result"
    }
   ],
   "source": [
    "dataset"
   ]
  },
  {
   "attachments": {},
   "cell_type": "markdown",
   "id": "fad5dcfa-bf7f-4202-a6b6-5ed256fbfd4d",
   "metadata": {},
   "source": [
    "## Divide to train and test sets"
   ]
  },
  {
   "cell_type": "code",
   "execution_count": 5,
   "id": "1505f595-5990-4b90-8e75-eed4e4c4e277",
   "metadata": {},
   "outputs": [],
   "source": [
    "X_train = dataset[\"train\"][\"text\"]\n",
    "y_train = dataset[\"train\"][\"rating\"]\n",
    "X_test = dataset[\"validation\"][\"text\"]\n",
    "y_test = dataset[\"validation\"][\"rating\"]"
   ]
  },
  {
   "cell_type": "code",
   "execution_count": 6,
   "id": "564ad739",
   "metadata": {},
   "outputs": [
    {
     "data": {
      "text/plain": [
       "{1.0, 2.0, 3.0, 4.0, 5.0}"
      ]
     },
     "execution_count": 6,
     "metadata": {},
     "output_type": "execute_result"
    }
   ],
   "source": [
    "set(y_train)"
   ]
  },
  {
   "attachments": {},
   "cell_type": "markdown",
   "id": "7ea9c7a5",
   "metadata": {},
   "source": [
    "Use the Polish BERT model:"
   ]
  },
  {
   "cell_type": "code",
   "execution_count": 7,
   "id": "1a98764d",
   "metadata": {},
   "outputs": [],
   "source": [
    "pretrained_model_name_or_path = \"sdadas/polish-roberta-base-v2\""
   ]
  },
  {
   "attachments": {},
   "cell_type": "markdown",
   "id": "8b6d07f5-dad0-4612-9cf0-793716e79197",
   "metadata": {},
   "source": [
    "## Fit the model"
   ]
  },
  {
   "cell_type": "code",
   "execution_count": 8,
   "id": "484eeab5-a89e-4846-b416-b7fae5ef9080",
   "metadata": {},
   "outputs": [
    {
     "name": "stderr",
     "output_type": "stream",
     "text": [
      "Some weights of the model checkpoint at sdadas/polish-roberta-base-v2 were not used when initializing RobertaModel: ['lm_head.dense.weight', 'lm_head.layer_norm.bias', 'lm_head.layer_norm.weight', 'lm_head.bias', 'lm_head.dense.bias']\n",
      "- This IS expected if you are initializing RobertaModel from the checkpoint of a model trained on another task or with another architecture (e.g. initializing a BertForSequenceClassification model from a BertForPreTraining model).\n",
      "- This IS NOT expected if you are initializing RobertaModel from the checkpoint of a model that you expect to be exactly identical (initializing a BertForSequenceClassification model from a BertForSequenceClassification model).\n",
      "Some weights of RobertaModel were not initialized from the model checkpoint at sdadas/polish-roberta-base-v2 and are newly initialized: ['roberta.pooler.dense.weight', 'roberta.pooler.dense.bias']\n",
      "You should probably TRAIN this model on a down-stream task to be able to use it for predictions and inference.\n"
     ]
    }
   ],
   "source": [
    "MODEL_PARAMS = {\n",
    "    \"pretrained_model_name_or_path\": pretrained_model_name_or_path,\n",
    "    \"batch_size\": 32,\n",
    "    \"learning_rate\": 5e-5,\n",
    "    \"epochs\": 3,\n",
    "    \"device\": \"cuda\",\n",
    "    \"many_gpus\": True,\n",
    "}\n",
    "model = BertRegressorTruncated(**MODEL_PARAMS)"
   ]
  },
  {
   "cell_type": "code",
   "execution_count": 9,
   "id": "39fde966-d26c-40e6-9c17-a1a108f7b05e",
   "metadata": {},
   "outputs": [
    {
     "name": "stdout",
     "output_type": "stream",
     "text": [
      "CPU times: user 12min, sys: 2min 13s, total: 14min 14s\n",
      "Wall time: 10min 15s\n"
     ]
    }
   ],
   "source": [
    "%%time\n",
    "model.fit(X_train, y_train, epochs=5)"
   ]
  },
  {
   "attachments": {},
   "cell_type": "markdown",
   "id": "5c8d1e36-a3e5-4e81-885d-48b91a6148e6",
   "metadata": {},
   "source": [
    "## Get predictions"
   ]
  },
  {
   "cell_type": "code",
   "execution_count": 10,
   "id": "b707a272-422d-4c7d-b5d0-fefcaec5b5dd",
   "metadata": {},
   "outputs": [],
   "source": [
    "scores = model.predict(X_test)"
   ]
  },
  {
   "cell_type": "code",
   "execution_count": 11,
   "id": "69e4836c",
   "metadata": {},
   "outputs": [],
   "source": [
    "results = torch.flatten(scores).cpu()"
   ]
  },
  {
   "cell_type": "code",
   "execution_count": 12,
   "id": "7725737b",
   "metadata": {},
   "outputs": [
    {
     "data": {
      "text/plain": [
       "tensor([3.7279, 3.7382, 1.6435,  ..., 2.0021, 0.9900, 1.0638])"
      ]
     },
     "execution_count": 12,
     "metadata": {},
     "output_type": "execute_result"
    }
   ],
   "source": [
    "results"
   ]
  },
  {
   "attachments": {},
   "cell_type": "markdown",
   "id": "1b381253-e76d-4764-ad3f-caccc67e4610",
   "metadata": {},
   "source": [
    "## Calculate model mean squared error on the test data"
   ]
  },
  {
   "cell_type": "code",
   "execution_count": 13,
   "id": "a3666c3e-09d8-4645-a963-4bfcf0d1877e",
   "metadata": {},
   "outputs": [],
   "source": [
    "mse = MSELoss()"
   ]
  },
  {
   "cell_type": "code",
   "execution_count": 14,
   "id": "b916014f",
   "metadata": {},
   "outputs": [
    {
     "data": {
      "text/plain": [
       "tensor(0.6345)"
      ]
     },
     "execution_count": 14,
     "metadata": {},
     "output_type": "execute_result"
    }
   ],
   "source": [
    "mse(results,torch.Tensor(y_test))"
   ]
  }
 ],
 "metadata": {
  "kernelspec": {
   "display_name": "Python 3 (ipykernel)",
   "language": "python",
   "name": "python3"
  },
  "language_info": {
   "codemirror_mode": {
    "name": "ipython",
    "version": 3
   },
   "file_extension": ".py",
   "mimetype": "text/x-python",
   "name": "python",
   "nbconvert_exporter": "python",
   "pygments_lexer": "ipython3",
   "version": "3.9.12"
  }
 },
 "nbformat": 4,
 "nbformat_minor": 5
}
